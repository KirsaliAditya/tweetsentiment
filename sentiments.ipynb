{
 "cells": [
  {
   "cell_type": "code",
   "execution_count": 4,
   "metadata": {},
   "outputs": [],
   "source": [
    "!mkdir dataset"
   ]
  },
  {
   "cell_type": "code",
   "execution_count": 2,
   "metadata": {},
   "outputs": [
    {
     "name": "stdout",
     "output_type": "stream",
     "text": [
      "Dataset URL: https://www.kaggle.com/datasets/kazanova/sentiment140\n",
      "License(s): other\n",
      "Downloading sentiment140.zip to d:\\coding\\python\\sentiments\n",
      "\n"
     ]
    },
    {
     "name": "stderr",
     "output_type": "stream",
     "text": [
      "\n",
      "  0%|          | 0.00/80.9M [00:00<?, ?B/s]\n",
      "  1%|          | 1.00M/80.9M [00:01<02:05, 667kB/s]\n",
      "  2%|▏         | 2.00M/80.9M [00:01<01:05, 1.26MB/s]\n",
      "  4%|▎         | 3.00M/80.9M [00:02<00:43, 1.87MB/s]\n",
      "  5%|▍         | 4.00M/80.9M [00:02<00:32, 2.45MB/s]\n",
      "  6%|▌         | 5.00M/80.9M [00:02<00:29, 2.72MB/s]\n",
      "  7%|▋         | 6.00M/80.9M [00:03<00:27, 2.82MB/s]\n",
      "  9%|▊         | 7.00M/80.9M [00:03<00:27, 2.79MB/s]\n",
      " 10%|▉         | 8.00M/80.9M [00:03<00:27, 2.78MB/s]\n",
      " 11%|█         | 9.00M/80.9M [00:04<00:28, 2.69MB/s]\n",
      " 12%|█▏        | 10.0M/80.9M [00:04<00:27, 2.70MB/s]\n",
      " 14%|█▎        | 11.0M/80.9M [00:04<00:26, 2.75MB/s]\n",
      " 15%|█▍        | 12.0M/80.9M [00:05<00:25, 2.78MB/s]\n",
      " 16%|█▌        | 13.0M/80.9M [00:05<00:25, 2.80MB/s]\n",
      " 17%|█▋        | 14.0M/80.9M [00:06<00:25, 2.71MB/s]\n",
      " 19%|█▊        | 15.0M/80.9M [00:06<00:28, 2.46MB/s]\n",
      " 20%|█▉        | 16.0M/80.9M [00:06<00:25, 2.64MB/s]\n",
      " 21%|██        | 17.0M/80.9M [00:07<00:24, 2.77MB/s]\n",
      " 22%|██▏       | 18.0M/80.9M [00:07<00:22, 3.00MB/s]\n",
      " 23%|██▎       | 19.0M/80.9M [00:07<00:19, 3.25MB/s]\n",
      " 25%|██▍       | 20.0M/80.9M [00:08<00:19, 3.35MB/s]\n",
      " 26%|██▌       | 21.0M/80.9M [00:08<00:18, 3.34MB/s]\n",
      " 27%|██▋       | 22.0M/80.9M [00:08<00:17, 3.44MB/s]\n",
      " 28%|██▊       | 23.0M/80.9M [00:09<00:18, 3.35MB/s]\n",
      " 30%|██▉       | 24.0M/80.9M [00:09<00:17, 3.34MB/s]\n",
      " 31%|███       | 25.0M/80.9M [00:09<00:17, 3.38MB/s]\n",
      " 32%|███▏      | 26.0M/80.9M [00:09<00:16, 3.59MB/s]\n",
      " 33%|███▎      | 27.0M/80.9M [00:10<00:15, 3.66MB/s]\n",
      " 35%|███▍      | 28.0M/80.9M [00:10<00:15, 3.70MB/s]\n",
      " 36%|███▌      | 29.0M/80.9M [00:10<00:14, 3.77MB/s]\n",
      " 37%|███▋      | 30.0M/80.9M [00:10<00:14, 3.80MB/s]\n",
      " 38%|███▊      | 31.0M/80.9M [00:11<00:13, 3.84MB/s]\n",
      " 40%|███▉      | 32.0M/80.9M [00:11<00:16, 3.02MB/s]\n",
      " 41%|████      | 33.0M/80.9M [00:12<00:16, 3.07MB/s]\n",
      " 42%|████▏     | 34.0M/80.9M [00:12<00:15, 3.13MB/s]\n",
      " 43%|████▎     | 35.0M/80.9M [00:12<00:17, 2.77MB/s]\n",
      " 44%|████▍     | 36.0M/80.9M [00:13<00:18, 2.56MB/s]\n",
      " 46%|████▌     | 37.0M/80.9M [00:13<00:20, 2.23MB/s]\n",
      " 47%|████▋     | 38.0M/80.9M [00:14<00:20, 2.16MB/s]\n",
      " 48%|████▊     | 39.0M/80.9M [00:15<00:21, 2.01MB/s]\n",
      " 49%|████▉     | 40.0M/80.9M [00:15<00:21, 2.04MB/s]\n",
      " 51%|█████     | 41.0M/80.9M [00:16<00:20, 2.09MB/s]\n",
      " 52%|█████▏    | 42.0M/80.9M [00:16<00:20, 2.02MB/s]\n",
      " 53%|█████▎    | 43.0M/80.9M [00:17<00:22, 1.76MB/s]\n",
      " 54%|█████▍    | 44.0M/80.9M [00:18<00:23, 1.68MB/s]\n",
      " 56%|█████▌    | 45.0M/80.9M [00:18<00:23, 1.60MB/s]\n",
      " 57%|█████▋    | 46.0M/80.9M [00:19<00:21, 1.67MB/s]\n",
      " 58%|█████▊    | 47.0M/80.9M [00:19<00:18, 1.89MB/s]\n",
      " 59%|█████▉    | 48.0M/80.9M [00:20<00:17, 1.99MB/s]\n",
      " 61%|██████    | 49.0M/80.9M [00:20<00:16, 2.07MB/s]\n",
      " 62%|██████▏   | 50.0M/80.9M [00:21<00:15, 2.05MB/s]\n",
      " 63%|██████▎   | 51.0M/80.9M [00:21<00:16, 1.85MB/s]\n",
      " 64%|██████▍   | 52.0M/80.9M [00:22<00:17, 1.78MB/s]\n",
      " 65%|██████▌   | 53.0M/80.9M [00:22<00:14, 2.03MB/s]\n",
      " 67%|██████▋   | 54.0M/80.9M [00:23<00:12, 2.26MB/s]\n",
      " 68%|██████▊   | 55.0M/80.9M [00:23<00:11, 2.45MB/s]\n",
      " 69%|██████▉   | 56.0M/80.9M [00:23<00:10, 2.57MB/s]\n",
      " 70%|███████   | 57.0M/80.9M [00:24<00:09, 2.69MB/s]\n",
      " 72%|███████▏  | 58.0M/80.9M [00:24<00:08, 2.79MB/s]\n",
      " 73%|███████▎  | 59.0M/80.9M [00:24<00:08, 2.87MB/s]\n",
      " 74%|███████▍  | 60.0M/80.9M [00:25<00:06, 3.14MB/s]\n",
      " 75%|███████▌  | 61.0M/80.9M [00:25<00:06, 3.27MB/s]\n",
      " 77%|███████▋  | 62.0M/80.9M [00:25<00:05, 3.44MB/s]\n",
      " 78%|███████▊  | 63.0M/80.9M [00:26<00:05, 3.41MB/s]\n",
      " 79%|███████▉  | 64.0M/80.9M [00:26<00:05, 3.49MB/s]\n",
      " 80%|████████  | 65.0M/80.9M [00:26<00:04, 3.53MB/s]\n",
      " 82%|████████▏ | 66.0M/80.9M [00:26<00:04, 3.71MB/s]\n",
      " 83%|████████▎ | 67.0M/80.9M [00:27<00:03, 3.66MB/s]\n",
      " 84%|████████▍ | 68.0M/80.9M [00:27<00:03, 3.46MB/s]\n",
      " 85%|████████▌ | 69.0M/80.9M [00:27<00:03, 3.25MB/s]\n",
      " 87%|████████▋ | 70.0M/80.9M [00:28<00:03, 3.45MB/s]\n",
      " 88%|████████▊ | 71.0M/80.9M [00:28<00:02, 3.68MB/s]\n",
      " 89%|████████▉ | 72.0M/80.9M [00:28<00:02, 3.77MB/s]\n",
      " 90%|█████████ | 73.0M/80.9M [00:28<00:02, 3.91MB/s]\n",
      " 91%|█████████▏| 74.0M/80.9M [00:29<00:01, 3.92MB/s]\n",
      " 93%|█████████▎| 75.0M/80.9M [00:29<00:01, 4.10MB/s]\n",
      " 94%|█████████▍| 76.0M/80.9M [00:29<00:01, 4.24MB/s]\n",
      " 95%|█████████▌| 77.0M/80.9M [00:29<00:00, 4.33MB/s]\n",
      " 96%|█████████▋| 78.0M/80.9M [00:30<00:00, 4.22MB/s]\n",
      " 98%|█████████▊| 79.0M/80.9M [00:30<00:00, 4.24MB/s]\n",
      " 99%|█████████▉| 80.0M/80.9M [00:30<00:00, 4.32MB/s]\n",
      "100%|██████████| 80.9M/80.9M [00:30<00:00, 4.51MB/s]\n",
      "100%|██████████| 80.9M/80.9M [00:30<00:00, 2.75MB/s]\n"
     ]
    }
   ],
   "source": [
    "!kaggle datasets download -d kazanova/sentiment140"
   ]
  },
  {
   "cell_type": "code",
   "execution_count": 6,
   "metadata": {},
   "outputs": [
    {
     "name": "stdout",
     "output_type": "stream",
     "text": [
      "Extraction complete!\n"
     ]
    }
   ],
   "source": [
    "from zipfile import ZipFile\n",
    "\n",
    "dataset = './sentiment140.zip'\n",
    "\n",
    "with ZipFile(dataset, 'r') as zip_ref:\n",
    "    zip_ref.extractall('./dataset/')\n",
    "print('Extraction complete!')"
   ]
  },
  {
   "cell_type": "code",
   "execution_count": 7,
   "metadata": {},
   "outputs": [],
   "source": [
    "import numpy as np\n",
    "import pandas as pd\n",
    "import re\n",
    "from nltk.corpus import stopwords\n",
    "from nltk.stem import PorterStemmer\n",
    "from sklearn.feature_extraction.text import TfidfVectorizer\n",
    "from sklearn.model_selection import train_test_split\n",
    "from sklearn.metrics import accuracy_score"
   ]
  },
  {
   "cell_type": "code",
   "execution_count": 8,
   "metadata": {},
   "outputs": [
    {
     "name": "stderr",
     "output_type": "stream",
     "text": [
      "[nltk_data] Downloading package stopwords to\n",
      "[nltk_data]     C:\\Users\\asus\\AppData\\Roaming\\nltk_data...\n",
      "[nltk_data]   Package stopwords is already up-to-date!\n"
     ]
    },
    {
     "data": {
      "text/plain": [
       "True"
      ]
     },
     "execution_count": 8,
     "metadata": {},
     "output_type": "execute_result"
    }
   ],
   "source": [
    "import nltk\n",
    "nltk.download('stopwords')"
   ]
  },
  {
   "cell_type": "code",
   "execution_count": 9,
   "metadata": {},
   "outputs": [],
   "source": [
    "columns = ['target', 'ids', 'date', 'flag', 'user', 'text']\n"
   ]
  },
  {
   "cell_type": "code",
   "execution_count": 10,
   "metadata": {},
   "outputs": [],
   "source": [
    "# loading the data\n",
    "data = pd.read_csv('./dataset/training.1600000.processed.noemoticon.csv', names=columns, encoding='ISO-8859-1')"
   ]
  },
  {
   "cell_type": "code",
   "execution_count": 11,
   "metadata": {},
   "outputs": [
    {
     "data": {
      "text/html": [
       "<div>\n",
       "<style scoped>\n",
       "    .dataframe tbody tr th:only-of-type {\n",
       "        vertical-align: middle;\n",
       "    }\n",
       "\n",
       "    .dataframe tbody tr th {\n",
       "        vertical-align: top;\n",
       "    }\n",
       "\n",
       "    .dataframe thead th {\n",
       "        text-align: right;\n",
       "    }\n",
       "</style>\n",
       "<table border=\"1\" class=\"dataframe\">\n",
       "  <thead>\n",
       "    <tr style=\"text-align: right;\">\n",
       "      <th></th>\n",
       "      <th>target</th>\n",
       "      <th>ids</th>\n",
       "      <th>date</th>\n",
       "      <th>flag</th>\n",
       "      <th>user</th>\n",
       "      <th>text</th>\n",
       "    </tr>\n",
       "  </thead>\n",
       "  <tbody>\n",
       "    <tr>\n",
       "      <th>0</th>\n",
       "      <td>0</td>\n",
       "      <td>1467810369</td>\n",
       "      <td>Mon Apr 06 22:19:45 PDT 2009</td>\n",
       "      <td>NO_QUERY</td>\n",
       "      <td>_TheSpecialOne_</td>\n",
       "      <td>@switchfoot http://twitpic.com/2y1zl - Awww, t...</td>\n",
       "    </tr>\n",
       "    <tr>\n",
       "      <th>1</th>\n",
       "      <td>0</td>\n",
       "      <td>1467810672</td>\n",
       "      <td>Mon Apr 06 22:19:49 PDT 2009</td>\n",
       "      <td>NO_QUERY</td>\n",
       "      <td>scotthamilton</td>\n",
       "      <td>is upset that he can't update his Facebook by ...</td>\n",
       "    </tr>\n",
       "    <tr>\n",
       "      <th>2</th>\n",
       "      <td>0</td>\n",
       "      <td>1467810917</td>\n",
       "      <td>Mon Apr 06 22:19:53 PDT 2009</td>\n",
       "      <td>NO_QUERY</td>\n",
       "      <td>mattycus</td>\n",
       "      <td>@Kenichan I dived many times for the ball. Man...</td>\n",
       "    </tr>\n",
       "    <tr>\n",
       "      <th>3</th>\n",
       "      <td>0</td>\n",
       "      <td>1467811184</td>\n",
       "      <td>Mon Apr 06 22:19:57 PDT 2009</td>\n",
       "      <td>NO_QUERY</td>\n",
       "      <td>ElleCTF</td>\n",
       "      <td>my whole body feels itchy and like its on fire</td>\n",
       "    </tr>\n",
       "    <tr>\n",
       "      <th>4</th>\n",
       "      <td>0</td>\n",
       "      <td>1467811193</td>\n",
       "      <td>Mon Apr 06 22:19:57 PDT 2009</td>\n",
       "      <td>NO_QUERY</td>\n",
       "      <td>Karoli</td>\n",
       "      <td>@nationwideclass no, it's not behaving at all....</td>\n",
       "    </tr>\n",
       "  </tbody>\n",
       "</table>\n",
       "</div>"
      ],
      "text/plain": [
       "   target         ids                          date      flag  \\\n",
       "0       0  1467810369  Mon Apr 06 22:19:45 PDT 2009  NO_QUERY   \n",
       "1       0  1467810672  Mon Apr 06 22:19:49 PDT 2009  NO_QUERY   \n",
       "2       0  1467810917  Mon Apr 06 22:19:53 PDT 2009  NO_QUERY   \n",
       "3       0  1467811184  Mon Apr 06 22:19:57 PDT 2009  NO_QUERY   \n",
       "4       0  1467811193  Mon Apr 06 22:19:57 PDT 2009  NO_QUERY   \n",
       "\n",
       "              user                                               text  \n",
       "0  _TheSpecialOne_  @switchfoot http://twitpic.com/2y1zl - Awww, t...  \n",
       "1    scotthamilton  is upset that he can't update his Facebook by ...  \n",
       "2         mattycus  @Kenichan I dived many times for the ball. Man...  \n",
       "3          ElleCTF    my whole body feels itchy and like its on fire   \n",
       "4           Karoli  @nationwideclass no, it's not behaving at all....  "
      ]
     },
     "execution_count": 11,
     "metadata": {},
     "output_type": "execute_result"
    }
   ],
   "source": [
    "data.head()"
   ]
  },
  {
   "cell_type": "code",
   "execution_count": 12,
   "metadata": {},
   "outputs": [
    {
     "data": {
      "text/plain": [
       "target\n",
       "0    800000\n",
       "1    800000\n",
       "Name: count, dtype: int64"
      ]
     },
     "execution_count": 12,
     "metadata": {},
     "output_type": "execute_result"
    }
   ],
   "source": [
    "data.replace({'target': {4: 1}}, inplace=True)\n",
    "data.target.value_counts()"
   ]
  },
  {
   "cell_type": "code",
   "execution_count": 13,
   "metadata": {},
   "outputs": [],
   "source": [
    "stemmer = PorterStemmer()\n",
    "def stemming(tweet):\n",
    "    tweet = re.sub('[^a-zA-Z]', ' ', tweet)\n",
    "    tweet = tweet.lower()\n",
    "    tweet = tweet.split()\n",
    "    tweet = [stemmer.stem(word) for word in tweet if word not in set(stopwords.words('english'))]\n",
    "    tweet = ' '.join(tweet)\n",
    "    return tweet"
   ]
  }
 ],
 "metadata": {
  "kernelspec": {
   "display_name": "Python 3",
   "language": "python",
   "name": "python3"
  },
  "language_info": {
   "codemirror_mode": {
    "name": "ipython",
    "version": 3
   },
   "file_extension": ".py",
   "mimetype": "text/x-python",
   "name": "python",
   "nbconvert_exporter": "python",
   "pygments_lexer": "ipython3",
   "version": "3.11.8"
  }
 },
 "nbformat": 4,
 "nbformat_minor": 2
}
